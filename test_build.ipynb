{
 "cells": [
  {
   "cell_type": "code",
   "execution_count": 1,
   "metadata": {},
   "outputs": [
    {
     "name": "stderr",
     "output_type": "stream",
     "text": [
      "/usr/local/lib/python3.5/dist-packages/matplotlib/__init__.py:1405: UserWarning: \n",
      "This call to matplotlib.use() has no effect because the backend has already\n",
      "been chosen; matplotlib.use() must be called *before* pylab, matplotlib.pyplot,\n",
      "or matplotlib.backends is imported for the first time.\n",
      "\n",
      "  warnings.warn(_use_error_msg)\n"
     ]
    }
   ],
   "source": [
    "from pyDOE import lhs\n",
    "import numpy as np\n",
    "import pandas as pd\n",
    "from scipy import stats, integrate\n",
    "import matplotlib.pyplot as plt\n",
    "import seaborn as sns\n",
    "sns.set(color_codes=True)\n",
    "\n",
    "import build_lhs as bh"
   ]
  },
  {
   "cell_type": "code",
   "execution_count": 6,
   "metadata": {
    "collapsed": true
   },
   "outputs": [],
   "source": [
    "IS = [ [0., 0.02], #U5\n",
    "       [0.03, 0.2], #Pu+MA fraction\n",
    "       [0.,0.01],    #Pu236\n",
    "       [0.,0.02],    #Pu238\n",
    "       [0.,0.2],     #Pu240\n",
    "       [0.,0.04],    #Pu241+Am241\n",
    "       [0.,1.],       #Pu241/(Pu241+Am241)\n",
    "       [0.,0.01],    #Pu242\n",
    "       [0.,0.06],    #Np237\n",
    "       [0.,0.001],   #Am242m\n",
    "       [0.,0.001],   #Am243\n",
    "       [0.,0.001],   #Cm242\n",
    "       [0.,0.001],   #Cm243\n",
    "       [0.,0.001],   #Cm244\n",
    "       [0.,0.001],   #Cm245\n",
    "       [0.,0.001],   #Cm246\n",
    "       [20,50]       #pspec\n",
    "       \n",
    "     ]\n"
   ]
  },
  {
   "cell_type": "code",
   "execution_count": 3,
   "metadata": {},
   "outputs": [],
   "source": [
    "#IS = [ [is_[0]*0.5,is_[1]*1.5] for is_ in IS_]\n",
    "#IS[1][0]=0.03\n",
    "#IS[6][1]=1\n",
    "\n",
    "\n",
    "#IS"
   ]
  },
  {
   "cell_type": "code",
   "execution_count": 4,
   "metadata": {},
   "outputs": [
    {
     "name": "stdout",
     "output_type": "stream",
     "text": [
      "new candidate solution found with max,abs corrcoef = 0.5938863496465913\n",
      "new candidate solution found with max,abs corrcoef = 0.5383154506258292\n"
     ]
    }
   ],
   "source": [
    "myLHS = bh.build_LHS(17, 10, 'corr', 20, 'outdat', plot=False, verbose=False)"
   ]
  },
  {
   "cell_type": "code",
   "execution_count": 7,
   "metadata": {},
   "outputs": [],
   "source": [
    "nm_LHS = bh.normalyse_LHS(myLHS, IS)"
   ]
  },
  {
   "cell_type": "code",
   "execution_count": 10,
   "metadata": {},
   "outputs": [
    {
     "name": "stderr",
     "output_type": "stream",
     "text": [
      "/usr/local/lib/python3.5/dist-packages/matplotlib/axes/_axes.py:545: UserWarning: No labelled objects found. Use label='...' kwarg on individual plots.\n",
      "  warnings.warn(\"No labelled objects found. \"\n"
     ]
    }
   ],
   "source": [
    "bh.plot(nm_LHS, 'LHS_10')\n",
    "bh.write(nm_LHS,'LHS_10')"
   ]
  },
  {
   "cell_type": "code",
   "execution_count": 11,
   "metadata": {},
   "outputs": [
    {
     "name": "stderr",
     "output_type": "stream",
     "text": [
      "/usr/local/lib/python3.5/dist-packages/matplotlib/axes/_axes.py:545: UserWarning: No labelled objects found. Use label='...' kwarg on individual plots.\n",
      "  warnings.warn(\"No labelled objects found. \"\n"
     ]
    }
   ],
   "source": [
    "bh.plot(myLHS, 'LHS_raw_10')"
   ]
  },
  {
   "cell_type": "code",
   "execution_count": null,
   "metadata": {
    "collapsed": true
   },
   "outputs": [],
   "source": []
  },
  {
   "cell_type": "code",
   "execution_count": null,
   "metadata": {
    "collapsed": true
   },
   "outputs": [],
   "source": []
  }
 ],
 "metadata": {
  "kernelspec": {
   "display_name": "Python 3",
   "language": "python",
   "name": "python3"
  }
 },
 "nbformat": 4,
 "nbformat_minor": 1
}
