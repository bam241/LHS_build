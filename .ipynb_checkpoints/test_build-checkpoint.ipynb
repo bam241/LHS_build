{
 "cells": [
  {
   "cell_type": "code",
   "execution_count": 6,
   "metadata": {},
   "outputs": [],
   "source": [
    "from pyDOE import lhs\n",
    "import numpy as np\n",
    "import pandas as pd\n",
    "from scipy import stats, integrate\n",
    "import matplotlib.pyplot as plt\n",
    "import seaborn as sns\n",
    "sns.set(color_codes=True)\n",
    "\n",
    "import build_lhs as bh"
   ]
  },
  {
   "cell_type": "code",
   "execution_count": 7,
   "metadata": {
    "collapsed": true
   },
   "outputs": [],
   "source": [
    "IS = [ [0., 0.02],   #U5\n",
    "       [0.03, 0.2],  #Pu+MA fraction\n",
    "       [0.,0.05],    #Pu236\n",
    "       [0.,0.08],    #Pu238\n",
    "       [0.,0.31],    #Pu240\n",
    "       [0.,0.21],    #Pu241+Am241\n",
    "       [0.,1.],     #Pu241/(Pu241+Am241)\n",
    "       [0.,0.21],    #Pu242\n",
    "       [10e6,40e6]       #pspec\n",
    "     ]\n"
   ]
  },
  {
   "cell_type": "code",
   "execution_count": 8,
   "metadata": {
    "collapsed": true
   },
   "outputs": [],
   "source": [
    "#IS = [ [is_[0]*0.5,is_[1]*1.5] for is_ in IS_]\n",
    "#IS[1][0]=0.03\n",
    "#IS[6][1]=1\n",
    "\n",
    "\n",
    "#IS"
   ]
  },
  {
   "cell_type": "code",
   "execution_count": 9,
   "metadata": {},
   "outputs": [
    {
     "name": "stdout",
     "output_type": "stream",
     "text": [
      "new candidate solution found with max,abs corrcoef = 0.9247104464306547\n"
     ]
    }
   ],
   "source": [
    "myLHS = bh.build_LHS(9, 100, 'corr', 50, 'outdat', plot=False, verbose=False)"
   ]
  },
  {
   "cell_type": "code",
   "execution_count": 10,
   "metadata": {
    "collapsed": true
   },
   "outputs": [],
   "source": [
    "nm_LHS = bh.normalyse_LHS(myLHS, IS)"
   ]
  },
  {
   "cell_type": "code",
   "execution_count": 11,
   "metadata": {},
   "outputs": [
    {
     "name": "stderr",
     "output_type": "stream",
     "text": [
      "/usr/local/lib/python3.5/dist-packages/matplotlib/axes/_axes.py:545: UserWarning: No labelled objects found. Use label='...' kwarg on individual plots.\n",
      "  warnings.warn(\"No labelled objects found. \"\n"
     ]
    }
   ],
   "source": [
    "bh.plot(nm_LHS, 'LHS_100')\n",
    "bh.write(nm_LHS,'LHS_100')"
   ]
  },
  {
   "cell_type": "code",
   "execution_count": 12,
   "metadata": {},
   "outputs": [
    {
     "name": "stderr",
     "output_type": "stream",
     "text": [
      "/usr/local/lib/python3.5/dist-packages/matplotlib/axes/_axes.py:545: UserWarning: No labelled objects found. Use label='...' kwarg on individual plots.\n",
      "  warnings.warn(\"No labelled objects found. \"\n"
     ]
    }
   ],
   "source": [
    "bh.plot(myLHS, 'LHS_raw_100')"
   ]
  },
  {
   "cell_type": "code",
   "execution_count": null,
   "metadata": {
    "collapsed": true
   },
   "outputs": [],
   "source": []
  },
  {
   "cell_type": "code",
   "execution_count": null,
   "metadata": {
    "collapsed": true
   },
   "outputs": [],
   "source": []
  }
 ],
 "metadata": {
  "kernelspec": {
   "display_name": "Python 3",
   "language": "python",
   "name": "python3"
  },
  "language_info": {
   "codemirror_mode": {
    "name": "ipython",
    "version": 3
   },
   "file_extension": ".py",
   "mimetype": "text/x-python",
   "name": "python",
   "nbconvert_exporter": "python",
   "pygments_lexer": "ipython3",
   "version": "3.5.2"
  }
 },
 "nbformat": 4,
 "nbformat_minor": 1
}
